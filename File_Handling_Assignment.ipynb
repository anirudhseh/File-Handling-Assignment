{
  "nbformat": 4,
  "nbformat_minor": 0,
  "metadata": {
    "colab": {
      "provenance": []
    },
    "kernelspec": {
      "name": "python3",
      "display_name": "Python 3"
    },
    "language_info": {
      "name": "python"
    }
  },
  "cells": [
    {
      "cell_type": "code",
      "execution_count": null,
      "metadata": {
        "id": "t4OOrdm0ful7"
      },
      "outputs": [],
      "source": [
        "#1) What is the diffrence between interpreted and compiled languages.\n",
        "Ans) Interpreted languages execute instructions directly using an interpreter (e.g., Python), while\n",
        "compiled languages first convert code into machine code using a compiler (e.g., C, C++).\n",
        "\n",
        "#2) What is exception handling in python.\n",
        "Ans) Exception handling in Python manages errors using try-except blocks to catch and handle runtime\n",
        "exceptions.\n",
        "\n",
        "#3) What is the purpose of finally block in exceptions handling.\n",
        "Ans) The finally block contains code that is always executed after try-except, regardless of whether an\n",
        "exception occurred.\n",
        "\n",
        "#4) What is logging in python.\n",
        "Ans) Logging records events during program execution for debugging and monitoring using the logging\n",
        "module.\n",
        "\n",
        "#5) What is the significance of __del__ method in python.\n",
        "Ans) __del__ is a destructor method called when an object is garbage collected.\n",
        "\n",
        "#6) What is the difference between import and from ... import in Python.\n",
        "Ans) import imports the whole module; from ... import imports specific functions or classes.\n",
        "\n",
        "#7) How can you handle multiple exceptions in Python.\n",
        "Ans) Use multiple except blocks or tuple syntax like: except (TypeError, ValueError):\n",
        "\n",
        "#8) What is the purpose of the with statement when handling files in Python.\n",
        "Ans) It ensures the file is properly closed after operations, even if an exception occurs.\n",
        "\n",
        "#9) What is the difference between multithreading and multiprocessing.\n",
        "Ans) Multithreading uses threads in a single process; multiprocessing uses separate processes and is\n",
        "better for CPU-bound tasks.\n",
        "\n",
        "#10) What are the advantages of using logging in a program.\n",
        "Ans) Logging helps in debugging, monitoring, and maintaining a history of events in a program.\n",
        "\n",
        "#11) What is memory management in Python.\n",
        "Ans) It involves allocating and releasing memory resources efficiently using a private heap and garbage\n",
        "collection.\n",
        "\n",
        "#12) What are the basic steps involved in exception handling in Python.\n",
        "Ans) Use try to run code, except to catch errors, else for success, and finally for cleanup.\n",
        "\n",
        "#13) Why is memory management important in Python.\n",
        "Ans) It prevents memory leaks and ensures efficient resource use.\n",
        "\n",
        "#14) What is the role of try and except in exception handling.\n",
        "Ans) try executes code, and except handles exceptions that may occur.\n",
        "\n",
        "#15) How does Python's garbage collection system work.\n",
        "Ans) Python uses reference counting and a cyclic garbage collector to manage memory.\n",
        "\n",
        "#16) What is the purpose of the else block in exception handling.\n",
        "Ans) It runs code only if no exception occurs in the try block.\n",
        "\n",
        "#17) What are the common logging levels in Python.\n",
        "Ans) DEBUG, INFO, WARNING, ERROR, CRITICAL.\n",
        "\n",
        "#18) What is the difference between os.fork() and multiprocessing in Python.\n",
        "Ans) os.fork() creates a child process in Unix systems; multiprocessing works cross-platform and is\n",
        "higher-level.\n",
        "\n",
        "#19) What is the importance of closing a file in Python.\n",
        "Ans) To free up system resources and avoid file corruption.\n",
        "\n",
        "#20) What is the difference between file.read() and file.readline() in Python.\n",
        "Ans) file.read() reads the entire file; file.readline() reads one line at a time.\n",
        "\n",
        "#21) What is the logging module in Python used for.\n",
        "Ans) For tracking events, errors, and debugging info in a program.\n",
        "\n",
        "#22) What is the os module in Python used for in file handling.\n",
        "Ans) For interacting with the operating system (e.g., file paths, environment variables).\n",
        "\n",
        "#23) What are the challenges associated with memory management in Python\n",
        "Ans) Circular references, memory leaks in long-running processes, and unpredictable garbage collection.\n",
        "\n",
        "#24) How do you raise an exception manually in Python\n",
        "Ans) Using the raise keyword, e.g., raise ValueError('Invalid input')\n",
        "\n",
        "#25) Why is it important to use multithreading in certain applications?\n",
        "Ans) To perform multiple I/O-bound tasks simultaneously and improve responsiveness.\n",
        "\n"
      ]
    },
    {
      "cell_type": "code",
      "source": [
        "#26)\n",
        "with open('file.txt', 'w') as f:\n",
        "  f.write('Hello, world!')"
      ],
      "metadata": {
        "id": "i5SRzKEgjYqd"
      },
      "execution_count": 3,
      "outputs": []
    },
    {
      "cell_type": "code",
      "source": [
        "#27)\n",
        "with open('file.txt', 'r') as f:\n",
        "  for line in f:\n",
        "    print(line.strip())"
      ],
      "metadata": {
        "colab": {
          "base_uri": "https://localhost:8080/"
        },
        "id": "YxqjZTLzjkzR",
        "outputId": "f2e39002-f5ae-4f9f-d2dd-d2d99440a78d"
      },
      "execution_count": 4,
      "outputs": [
        {
          "output_type": "stream",
          "name": "stdout",
          "text": [
            "Hello, world!\n"
          ]
        }
      ]
    },
    {
      "cell_type": "code",
      "source": [
        "#28)\n",
        "try:\n",
        "  with open('file.txt', 'r') as f:\n",
        "    content = f.read()\n",
        "except FileNotFoundError:\n",
        "  print('File not found.')"
      ],
      "metadata": {
        "id": "hDWRsv6YkN9W"
      },
      "execution_count": 9,
      "outputs": []
    },
    {
      "cell_type": "code",
      "source": [
        "#29)\n",
        "with open('source.txt', 'r') as src, open('dest.txt', 'w') as dst:\n",
        "  dst.write(src.read())"
      ],
      "metadata": {
        "colab": {
          "base_uri": "https://localhost:8080/",
          "height": 176
        },
        "id": "ZU2jQaYlkhWT",
        "outputId": "2a46c3f5-6d04-47bc-a4e8-e30ca8b15733"
      },
      "execution_count": 12,
      "outputs": [
        {
          "output_type": "error",
          "ename": "FileNotFoundError",
          "evalue": "[Errno 2] No such file or directory: 'source.txt'",
          "traceback": [
            "\u001b[0;31m---------------------------------------------------------------------------\u001b[0m",
            "\u001b[0;31mFileNotFoundError\u001b[0m                         Traceback (most recent call last)",
            "\u001b[0;32m/tmp/ipython-input-2758072491.py\u001b[0m in \u001b[0;36m<cell line: 0>\u001b[0;34m()\u001b[0m\n\u001b[1;32m      1\u001b[0m \u001b[0;31m#29)\u001b[0m\u001b[0;34m\u001b[0m\u001b[0;34m\u001b[0m\u001b[0m\n\u001b[0;32m----> 2\u001b[0;31m \u001b[0;32mwith\u001b[0m \u001b[0mopen\u001b[0m\u001b[0;34m(\u001b[0m\u001b[0;34m'source.txt'\u001b[0m\u001b[0;34m,\u001b[0m \u001b[0;34m'r'\u001b[0m\u001b[0;34m)\u001b[0m \u001b[0;32mas\u001b[0m \u001b[0msrc\u001b[0m\u001b[0;34m,\u001b[0m \u001b[0mopen\u001b[0m\u001b[0;34m(\u001b[0m\u001b[0;34m'dest.txt'\u001b[0m\u001b[0;34m,\u001b[0m \u001b[0;34m'w'\u001b[0m\u001b[0;34m)\u001b[0m \u001b[0;32mas\u001b[0m \u001b[0mdst\u001b[0m\u001b[0;34m:\u001b[0m\u001b[0;34m\u001b[0m\u001b[0;34m\u001b[0m\u001b[0m\n\u001b[0m\u001b[1;32m      3\u001b[0m   \u001b[0mdst\u001b[0m\u001b[0;34m.\u001b[0m\u001b[0mwrite\u001b[0m\u001b[0;34m(\u001b[0m\u001b[0msrc\u001b[0m\u001b[0;34m.\u001b[0m\u001b[0mread\u001b[0m\u001b[0;34m(\u001b[0m\u001b[0;34m)\u001b[0m\u001b[0;34m)\u001b[0m\u001b[0;34m\u001b[0m\u001b[0;34m\u001b[0m\u001b[0m\n",
            "\u001b[0;31mFileNotFoundError\u001b[0m: [Errno 2] No such file or directory: 'source.txt'"
          ]
        }
      ]
    },
    {
      "cell_type": "code",
      "source": [
        "#30)\n",
        "try:\n",
        "  result = 10 / 0\n",
        "except ZeroDivisionError:\n",
        "  print('Cannot divide by zero')"
      ],
      "metadata": {
        "colab": {
          "base_uri": "https://localhost:8080/"
        },
        "id": "PEqv2W1KksTE",
        "outputId": "d264ecb1-9768-45f7-bce2-0267d5ba8f6b"
      },
      "execution_count": 13,
      "outputs": [
        {
          "output_type": "stream",
          "name": "stdout",
          "text": [
            "Cannot divide by zero\n"
          ]
        }
      ]
    },
    {
      "cell_type": "code",
      "source": [
        "#31)\n",
        "import logging\n",
        "logging.basicConfig(filename='app.log', level=logging.ERROR)\n",
        "try:\n",
        "  result = 10 / 0\n",
        "except ZeroDivisionError as e:\n",
        "  logging.error('Error occurred: %s', e)"
      ],
      "metadata": {
        "colab": {
          "base_uri": "https://localhost:8080/"
        },
        "id": "9JIR-76Vk0eP",
        "outputId": "58873502-01f6-4d8d-dd29-188ea7a899d8"
      },
      "execution_count": 14,
      "outputs": [
        {
          "output_type": "stream",
          "name": "stderr",
          "text": [
            "ERROR:root:Error occurred: division by zero\n"
          ]
        }
      ]
    },
    {
      "cell_type": "code",
      "source": [
        "#32)\n",
        "import logging\n",
        "logging.basicConfig(level=logging.DEBUG)\n",
        "logging.info('Info message')\n",
        "logging.warning('Warning')\n",
        "logging.error('Error')"
      ],
      "metadata": {
        "colab": {
          "base_uri": "https://localhost:8080/"
        },
        "id": "LyG5AZ4tk93J",
        "outputId": "fca49058-4be3-4ebd-8bd6-6ee40300b635"
      },
      "execution_count": 15,
      "outputs": [
        {
          "output_type": "stream",
          "name": "stderr",
          "text": [
            "WARNING:root:Warning\n",
            "ERROR:root:Error\n"
          ]
        }
      ]
    },
    {
      "cell_type": "code",
      "source": [
        "#33) try:\n",
        "with open('file.txt') as f:\n",
        "  data = f.read()\n",
        "except IOError:\n",
        "  print('File could not be opened.')"
      ],
      "metadata": {
        "colab": {
          "base_uri": "https://localhost:8080/",
          "height": 106
        },
        "id": "fq3p32fblFzA",
        "outputId": "3e4f4f9e-85b4-4af7-85a2-99671c593949"
      },
      "execution_count": 16,
      "outputs": [
        {
          "output_type": "error",
          "ename": "SyntaxError",
          "evalue": "invalid syntax (ipython-input-683975503.py, line 4)",
          "traceback": [
            "\u001b[0;36m  File \u001b[0;32m\"/tmp/ipython-input-683975503.py\"\u001b[0;36m, line \u001b[0;32m4\u001b[0m\n\u001b[0;31m    except IOError:\u001b[0m\n\u001b[0m    ^\u001b[0m\n\u001b[0;31mSyntaxError\u001b[0m\u001b[0;31m:\u001b[0m invalid syntax\n"
          ]
        }
      ]
    },
    {
      "cell_type": "code",
      "source": [
        "#34)\n",
        "with open('file.txt') as f:\n",
        "  lines = f.readlines()"
      ],
      "metadata": {
        "id": "VvZBjlr-lUo1"
      },
      "execution_count": 18,
      "outputs": []
    },
    {
      "cell_type": "code",
      "source": [
        "#35)\n",
        "with open('file.txt', 'a') as f:\n",
        "  f.write('Appended line\\n')"
      ],
      "metadata": {
        "id": "630iBcTElbL1"
      },
      "execution_count": 19,
      "outputs": []
    },
    {
      "cell_type": "code",
      "source": [
        "#36)\n",
        "data = {'a': 1}\n",
        "try:\n",
        "  print(data['b'])\n",
        "except KeyError:\n",
        "  print('Key not found')"
      ],
      "metadata": {
        "colab": {
          "base_uri": "https://localhost:8080/"
        },
        "id": "6oRYeApqlf0a",
        "outputId": "ca864a76-7077-43ae-9ab1-7c465fa43171"
      },
      "execution_count": 20,
      "outputs": [
        {
          "output_type": "stream",
          "name": "stdout",
          "text": [
            "Key not found\n"
          ]
        }
      ]
    },
    {
      "cell_type": "code",
      "source": [
        "#37)\n",
        "try:\n",
        "  x = int('abc')\n",
        "except ValueError:\n",
        "  print('Value error')\n",
        "except TypeError:\n",
        "  print('Type error')"
      ],
      "metadata": {
        "colab": {
          "base_uri": "https://localhost:8080/"
        },
        "id": "VoIKBG5ylmpP",
        "outputId": "59138860-1481-4071-fe1e-e1e712820621"
      },
      "execution_count": 21,
      "outputs": [
        {
          "output_type": "stream",
          "name": "stdout",
          "text": [
            "Value error\n"
          ]
        }
      ]
    },
    {
      "cell_type": "code",
      "source": [
        "#38)\n",
        "import os\n",
        "if os.path.exists('file.txt'):\n",
        "  with open('file.txt') as f:\n",
        "    print(f.read())"
      ],
      "metadata": {
        "colab": {
          "base_uri": "https://localhost:8080/"
        },
        "id": "2KAAW37jluxM",
        "outputId": "97f47eb4-d051-4c99-fac7-2bf337045c3c"
      },
      "execution_count": 23,
      "outputs": [
        {
          "output_type": "stream",
          "name": "stdout",
          "text": [
            "Hello, world!Appended line\n",
            "\n"
          ]
        }
      ]
    },
    {
      "cell_type": "code",
      "source": [
        "#39)\n",
        "import logging\n",
        "logging.basicConfig(filename='app.log', level=logging.INFO)\n",
        "logging.info('This is info')\n",
        "logging.error('This is error')"
      ],
      "metadata": {
        "colab": {
          "base_uri": "https://localhost:8080/"
        },
        "id": "e4awC3A-l8Gi",
        "outputId": "bda67d93-f8db-4621-a276-bccc252a4155"
      },
      "execution_count": 24,
      "outputs": [
        {
          "output_type": "stream",
          "name": "stderr",
          "text": [
            "ERROR:root:This is error\n"
          ]
        }
      ]
    },
    {
      "cell_type": "code",
      "source": [
        "#40)\n",
        "with open('file.txt') as f:\n",
        "  content = f.read()\n",
        "if not content:\n",
        "  print('File is empty')\n",
        "else:\n",
        "  print(content)"
      ],
      "metadata": {
        "colab": {
          "base_uri": "https://localhost:8080/"
        },
        "id": "fdeT9fMsmAqD",
        "outputId": "386e239a-b532-4d36-de8f-4bfe89947ec7"
      },
      "execution_count": 25,
      "outputs": [
        {
          "output_type": "stream",
          "name": "stdout",
          "text": [
            "Hello, world!Appended line\n",
            "\n"
          ]
        }
      ]
    },
    {
      "cell_type": "code",
      "source": [
        "#41)\n",
        "from memory_profiler import profile\n",
        "@profile\n",
        "def my_func():\n",
        "  a = [i for i in range(10000)]\n",
        "my_func()"
      ],
      "metadata": {
        "colab": {
          "base_uri": "https://localhost:8080/",
          "height": 384
        },
        "id": "0fB3vRpDmNMG",
        "outputId": "dcf7a64c-fdb9-40bf-f083-8741f6c44515"
      },
      "execution_count": 26,
      "outputs": [
        {
          "output_type": "error",
          "ename": "ModuleNotFoundError",
          "evalue": "No module named 'memory_profiler'",
          "traceback": [
            "\u001b[0;31m---------------------------------------------------------------------------\u001b[0m",
            "\u001b[0;31mModuleNotFoundError\u001b[0m                       Traceback (most recent call last)",
            "\u001b[0;32m/tmp/ipython-input-3180635774.py\u001b[0m in \u001b[0;36m<cell line: 0>\u001b[0;34m()\u001b[0m\n\u001b[1;32m      1\u001b[0m \u001b[0;31m#41)\u001b[0m\u001b[0;34m\u001b[0m\u001b[0;34m\u001b[0m\u001b[0m\n\u001b[0;32m----> 2\u001b[0;31m \u001b[0;32mfrom\u001b[0m \u001b[0mmemory_profiler\u001b[0m \u001b[0;32mimport\u001b[0m \u001b[0mprofile\u001b[0m\u001b[0;34m\u001b[0m\u001b[0;34m\u001b[0m\u001b[0m\n\u001b[0m\u001b[1;32m      3\u001b[0m \u001b[0;34m@\u001b[0m\u001b[0mprofile\u001b[0m\u001b[0;34m\u001b[0m\u001b[0;34m\u001b[0m\u001b[0m\n\u001b[1;32m      4\u001b[0m \u001b[0;32mdef\u001b[0m \u001b[0mmy_func\u001b[0m\u001b[0;34m(\u001b[0m\u001b[0;34m)\u001b[0m\u001b[0;34m:\u001b[0m\u001b[0;34m\u001b[0m\u001b[0;34m\u001b[0m\u001b[0m\n\u001b[1;32m      5\u001b[0m   \u001b[0ma\u001b[0m \u001b[0;34m=\u001b[0m \u001b[0;34m[\u001b[0m\u001b[0mi\u001b[0m \u001b[0;32mfor\u001b[0m \u001b[0mi\u001b[0m \u001b[0;32min\u001b[0m \u001b[0mrange\u001b[0m\u001b[0;34m(\u001b[0m\u001b[0;36m10000\u001b[0m\u001b[0;34m)\u001b[0m\u001b[0;34m]\u001b[0m\u001b[0;34m\u001b[0m\u001b[0;34m\u001b[0m\u001b[0m\n",
            "\u001b[0;31mModuleNotFoundError\u001b[0m: No module named 'memory_profiler'",
            "",
            "\u001b[0;31m---------------------------------------------------------------------------\u001b[0;32m\nNOTE: If your import is failing due to a missing package, you can\nmanually install dependencies using either !pip or !apt.\n\nTo view examples of installing some common dependencies, click the\n\"Open Examples\" button below.\n\u001b[0;31m---------------------------------------------------------------------------\u001b[0m\n"
          ],
          "errorDetails": {
            "actions": [
              {
                "action": "open_url",
                "actionText": "Open Examples",
                "url": "/notebooks/snippets/importing_libraries.ipynb"
              }
            ]
          }
        }
      ]
    },
    {
      "cell_type": "code",
      "source": [
        "#42)\n",
        "numbers = [1, 2, 3]\n",
        "with open('numbers.txt', 'w') as f:\n",
        "  for num in numbers:\n",
        "    f.write(f'{num}\\n')"
      ],
      "metadata": {
        "id": "mcKF5s6VmWdS"
      },
      "execution_count": 27,
      "outputs": []
    },
    {
      "cell_type": "code",
      "source": [
        "#43)\n",
        "from logging.handlers import RotatingFileHandler\n",
        "import logging\n",
        "handler = RotatingFileHandler('app.log', maxBytes=1048576, backupCount=3)\n",
        "logging.basicConfig(handlers=[handler], level=logging.INFO)\n",
        "logging.info('Test')"
      ],
      "metadata": {
        "id": "eWA3rRw1mdRP"
      },
      "execution_count": 28,
      "outputs": []
    },
    {
      "cell_type": "code",
      "source": [
        "#44)\n",
        "try:\n",
        "  l = [1, 2]\n",
        "print(l[5])\n",
        "d = {}\n",
        "print(d['x'])\n",
        "except IndexError:\n",
        "print('Index error')\n",
        "except KeyError:\n",
        "print('Key error')"
      ],
      "metadata": {
        "colab": {
          "base_uri": "https://localhost:8080/",
          "height": 106
        },
        "id": "kBzgtVg4mhW_",
        "outputId": "b68c20b8-f409-4306-9f02-f0a3da32fd92"
      },
      "execution_count": 29,
      "outputs": [
        {
          "output_type": "error",
          "ename": "SyntaxError",
          "evalue": "expected 'except' or 'finally' block (ipython-input-631626033.py, line 4)",
          "traceback": [
            "\u001b[0;36m  File \u001b[0;32m\"/tmp/ipython-input-631626033.py\"\u001b[0;36m, line \u001b[0;32m4\u001b[0m\n\u001b[0;31m    print(l[5])\u001b[0m\n\u001b[0m    ^\u001b[0m\n\u001b[0;31mSyntaxError\u001b[0m\u001b[0;31m:\u001b[0m expected 'except' or 'finally' block\n"
          ]
        }
      ]
    },
    {
      "cell_type": "code",
      "source": [
        "#45)\n",
        "with open('file.txt') as f:\n",
        "  print(f.read())"
      ],
      "metadata": {
        "colab": {
          "base_uri": "https://localhost:8080/"
        },
        "id": "YZ3D7u30myNH",
        "outputId": "4ac40600-8c26-4dfc-f7de-271825434453"
      },
      "execution_count": 30,
      "outputs": [
        {
          "output_type": "stream",
          "name": "stdout",
          "text": [
            "Hello, world!Appended line\n",
            "\n"
          ]
        }
      ]
    },
    {
      "cell_type": "code",
      "source": [
        "#46)\n",
        "word = 'hello'\n",
        "with open('file.txt') as f:\n",
        "  content = f.read()\n",
        "print(content.count(word))"
      ],
      "metadata": {
        "colab": {
          "base_uri": "https://localhost:8080/"
        },
        "id": "XBFLOLCCm4q6",
        "outputId": "f4b59b2e-dcdd-4987-87d5-3545dd589164"
      },
      "execution_count": 31,
      "outputs": [
        {
          "output_type": "stream",
          "name": "stdout",
          "text": [
            "0\n"
          ]
        }
      ]
    },
    {
      "cell_type": "code",
      "source": [
        "#47)\n",
        "import os\n",
        "if os.path.getsize('file.txt') == 0:\n",
        "  print('File is empty')"
      ],
      "metadata": {
        "id": "WpjTxA8Cm-H5"
      },
      "execution_count": 32,
      "outputs": []
    },
    {
      "cell_type": "code",
      "source": [
        "#48)\n",
        "import logging\n",
        "logging.basicConfig(filename='file_errors.log', level=logging.ERROR)\n",
        "try:\n",
        "  with open('nonexistent.txt') as f:\n",
        "    print(f.read())\n",
        "    except Exception as e:\n",
        "      logging.error('File error: %s', e)"
      ],
      "metadata": {
        "colab": {
          "base_uri": "https://localhost:8080/",
          "height": 106
        },
        "id": "HQq4dZP9nCsn",
        "outputId": "e80bf88d-3909-441a-b43b-e634b065b777"
      },
      "execution_count": 33,
      "outputs": [
        {
          "output_type": "error",
          "ename": "SyntaxError",
          "evalue": "invalid syntax (ipython-input-99954788.py, line 7)",
          "traceback": [
            "\u001b[0;36m  File \u001b[0;32m\"/tmp/ipython-input-99954788.py\"\u001b[0;36m, line \u001b[0;32m7\u001b[0m\n\u001b[0;31m    except Exception as e:\u001b[0m\n\u001b[0m    ^\u001b[0m\n\u001b[0;31mSyntaxError\u001b[0m\u001b[0;31m:\u001b[0m invalid syntax\n"
          ]
        }
      ]
    }
  ]
}